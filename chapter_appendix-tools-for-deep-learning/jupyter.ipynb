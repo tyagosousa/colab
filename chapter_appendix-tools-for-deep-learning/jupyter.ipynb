{
  "cells": [
    {
      "cell_type": "code",
      "source": [
        "import seaborn as sns\n",
        "import matplotlib.pyplot as plt\n",
        "\n",
        "x = [0, 2, 4, 6, 8]\n",
        "y = [1, 2, 5, 5, 9]\n",
        "\n",
        "sns.lineplot(x=x, y=y)\n",
        "\n",
        "# Adicionando nomes aos eixos\n",
        "plt.xlabel('Eixo X')  # Nome do eixo X\n",
        "plt.ylabel('Eixo Y')  # Nome do eixo Y\n",
        "\n",
        "# Adicionando um título ao gráfico\n",
        "plt.title('Título do Gráfico')\n",
        "\n",
        "# Exibindo o gráfico\n",
        "plt.show()\n"
      ],
      "metadata": {
        "id": "J_6_GKJsmEPq"
      },
      "id": "J_6_GKJsmEPq",
      "execution_count": null,
      "outputs": []
    }
  ],
  "metadata": {
    "kernelspec": {
      "display_name": "Python 3",
      "name": "python3"
    },
    "language_info": {
      "name": "python"
    },
    "required_libs": [],
    "colab": {
      "provenance": []
    }
  },
  "nbformat": 4,
  "nbformat_minor": 5
}